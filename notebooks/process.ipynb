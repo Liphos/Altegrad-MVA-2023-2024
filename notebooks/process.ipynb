{
 "cells": [
  {
   "cell_type": "code",
   "execution_count": 1,
   "metadata": {},
   "outputs": [],
   "source": [
    "%load_ext autoreload\n",
    "%autoreload 2"
   ]
  },
  {
   "cell_type": "code",
   "execution_count": 2,
   "metadata": {},
   "outputs": [],
   "source": [
    "import sys, os\n",
    "\n",
    "path2add = os.path.normpath(os.path.abspath('..'))\n",
    "if path2add not in sys.path: sys.path.append(path2add)\n",
    "\n",
    "import torch\n",
    "from torch_geometric.data import Data\n",
    "from dataloader import GraphDataset, GraphTextDataset, TextDataset, GraphTextInMDataset, AllGraphDataset, AugmentGraphDataset, AugmentGraphTextDataset\n",
    "from augment import RWSample, UniformSample\n",
    "import networkx as nx\n",
    "\n",
    "from transformers import AutoTokenizer\n",
    "import numpy as np"
   ]
  },
  {
   "cell_type": "code",
   "execution_count": 3,
   "metadata": {},
   "outputs": [],
   "source": [
    "tokenizer = AutoTokenizer.from_pretrained('nlpie/distil-biobert')"
   ]
  },
  {
   "cell_type": "code",
   "execution_count": 4,
   "metadata": {},
   "outputs": [],
   "source": [
    "transforms = [RWSample(), UniformSample()]\n",
    "\n",
    "def transform_augment(sample):\n",
    "    tmp = sample.clone()\n",
    "    if tmp.x.shape[0] > 6:\n",
    "        choice = np.random.randint(2)\n",
    "        transform = transforms[choice]\n",
    "        tmp = transform(tmp)\n",
    "\n",
    "    data = Data(\n",
    "        x = sample.x,\n",
    "        edge_index = sample.edge_index,\n",
    "\n",
    "        x_augment = tmp.x,\n",
    "        edge_index_augment = tmp.edge_index,\n",
    "\n",
    "        input_ids = sample.input_ids,\n",
    "        attention_mask = sample.attention_mask,\n",
    "\n",
    "        description = sample.description,\n",
    "    )\n",
    "    return data"
   ]
  },
  {
   "cell_type": "code",
   "execution_count": 5,
   "metadata": {},
   "outputs": [],
   "source": [
    "gt = np.load(\"../data/token_embedding_dict.npy\", allow_pickle=True)[()]\n",
    "train_dataset = AugmentGraphTextDataset(\n",
    "    root=\"../data/\", gt=gt, split=\"train\", tokenizer=tokenizer, model_name='nlpie/distil-biobert', transform=transform_augment\n",
    ")"
   ]
  },
  {
   "cell_type": "code",
   "execution_count": 6,
   "metadata": {},
   "outputs": [
    {
     "data": {
      "text/plain": [
       "26408"
      ]
     },
     "execution_count": 6,
     "metadata": {},
     "output_type": "execute_result"
    }
   ],
   "source": [
    "len(train_dataset)"
   ]
  },
  {
   "cell_type": "code",
   "execution_count": 15,
   "metadata": {},
   "outputs": [
    {
     "data": {
      "text/plain": [
       "(tensor([[0, 1, 1, 2, 2, 3, 3, 4, 4, 5, 6, 7, 7, 8, 5, 0, 8, 3],\n",
       "         [1, 0, 2, 1, 3, 2, 4, 3, 5, 4, 7, 6, 8, 7, 0, 5, 3, 8]]),\n",
       " tensor([[0, 1, 1, 2, 2, 3, 3, 4, 4, 5, 4, 6, 6, 7, 7, 8, 8, 9, 5, 0, 9, 3],\n",
       "         [1, 0, 2, 1, 3, 2, 4, 3, 5, 4, 6, 4, 7, 6, 8, 7, 9, 8, 0, 5, 3, 9]]))"
      ]
     },
     "execution_count": 15,
     "metadata": {},
     "output_type": "execute_result"
    }
   ],
   "source": [
    "sample = train_dataset[45]\n",
    "sample.edge_index_augment, sample.edge_index"
   ]
  },
  {
   "cell_type": "code",
   "execution_count": 7,
   "metadata": {},
   "outputs": [
    {
     "name": "stdout",
     "output_type": "stream",
     "text": [
      "Data(x=[20, 300], edge_index=[2, 38], x_augment=[18, 300], edge_index_augment=[2, 34], input_ids=[2, 256], attention_mask=[2, 256], description=[2])\n"
     ]
    },
    {
     "data": {
      "text/plain": [
       "(['Petroselaidate is an unsaturated fatty acid anion resulting from the deprotonation of the carboxy group of petroselaidic acid. The major species at pH 7.3',\n",
       "  'It is a long-chain fatty acid anion and an unsaturated fatty acid anion. It is a conjugate base of a petroselaidic acid.'],\n",
       " ['Petroselaidate is an unsaturated fatty acid anion resulting from the deprotonation of the carboxy group of petroselaidic acid. The major species at pH 7. 3',\n",
       "  'It is a long - chain fatty acid anion and an unsaturated fatty acid anion. It is a conjugate base of a petroselaidic acid.'])"
      ]
     },
     "execution_count": 7,
     "metadata": {},
     "output_type": "execute_result"
    },
    {
     "data": {
      "image/png": "[encoded data removed]",
      "text/plain": [
       "<Figure size 640x480 with 1 Axes>"
      ]
     },
     "metadata": {},
     "output_type": "display_data"
    }
   ],
   "source": [
    "sample = train_dataset[9879]\n",
    "print(sample)\n",
    "\n",
    "edges = sample.edge_index\n",
    "G = nx.DiGraph()\n",
    "for i in range(len(edges[0])):\n",
    "    G.add_edge(int(edges[0][i]), int(edges[1][i]))\n",
    "pos = nx.kamada_kawai_layout(G)\n",
    "nx.draw(G, pos, with_labels=False, font_size=8, node_color='skyblue', node_size=200, edge_color='gray', linewidths=0.3, arrows=False)\n",
    "\n",
    "\n",
    "\n",
    "sample.description, tokenizer.batch_decode(sample.input_ids, skip_special_tokens=True)"
   ]
  },
  {
   "cell_type": "code",
   "execution_count": 8,
   "metadata": {},
   "outputs": [],
   "source": [
    "# tds = GraphTextInMDataset(\n",
    "#     root=\"../data/\", gt=gt, split=\"train\", tokenizer=tokenizer, model_name='nlpie/distil-biobert'\n",
    "# )"
   ]
  },
  {
   "cell_type": "code",
   "execution_count": 9,
   "metadata": {},
   "outputs": [
    {
     "data": {
      "text/plain": [
       "Data(x=[10, 300], edge_index=[2, 22], input_ids=[1, 256], attention_mask=[1, 256])"
      ]
     },
     "execution_count": 9,
     "metadata": {},
     "output_type": "execute_result"
    }
   ],
   "source": [
    "# tds[45]"
   ]
  },
  {
   "cell_type": "code",
   "execution_count": 8,
   "metadata": {},
   "outputs": [],
   "source": [
    "from torch_geometric.loader import DataLoader\n",
    "\n",
    "batch_size = 21\n",
    "train_loader = DataLoader(\n",
    "    train_dataset,\n",
    "    batch_size=batch_size,\n",
    "    shuffle=True,\n",
    ")"
   ]
  },
  {
   "cell_type": "code",
   "execution_count": 9,
   "metadata": {},
   "outputs": [
    {
     "data": {
      "text/plain": [
       "DataBatch(x=[563, 300], edge_index=[2, 1184], x_augment=[476, 300], edge_index_augment=[2, 924], input_ids=[42, 256], attention_mask=[42, 256], description=[21], batch=[563], ptr=[22])"
      ]
     },
     "execution_count": 9,
     "metadata": {},
     "output_type": "execute_result"
    }
   ],
   "source": [
    "batch = next(iter(train_loader))\n",
    "batch"
   ]
  },
  {
   "cell_type": "code",
   "execution_count": 10,
   "metadata": {},
   "outputs": [
    {
     "data": {
      "text/plain": [
       "[\"Furano [ 2'', 3'' : 6, 7 ] aurone is a member of the class of aurones that is aurone with a furan ring fused across positions C - 6, and - 7\",\n",
       " 'It has a role as a metabolite. It is a member of aurones and a cyclic ketone. It derives from an aurone.',\n",
       " \"Rubianol - e 3 - O - ( 6'- O - acetyl ) - beta - D - glucopyranoside is a triterpenoid saponin with an arborinane - type terpenoid as the aglycone. It has been isolated from the roots of Rubia yunnanensis. It has a role as a plant metabolite\",\n",
       " 'It is a pentacyclic triterpenoid, an acetate ester, a diol, a triterpenoid saponin, a monosaccharide derivative and a beta - D - glucoside.',\n",
       " '5beta - cholestane - 3alpha, 7alpha, 26 - triol is a 3alpha - hydroxy steroid, a 7alpha - hydroxy steroid and a 26 - hydroxy steroid. It has a role as a bile acid metabolite, a human metabolite and a mouse metabolite',\n",
       " 'It derives from a hydride of a 5beta - cholestane.',\n",
       " 'Clenbuterol ( 1 + ) is the ammonium ion that is the conjugate acid of clenbuterol, formed by protonation of the secondary amine nitrogen atom',\n",
       " 'It is a conjugate acid of a clenbuterol.',\n",
       " '5, 10 - methylenetetrahydrofolate ( 2 - ) is a tetrahydrofolate and a dicarboxylic acid dianion. It has a role as a Saccharomyces cerevisiae metabolite',\n",
       " 'It is a conjugate base of a 5, 10 - methylenetetrahydrofolic acid.',\n",
       " 'Parkeol is a tetracyclic triterpenoid comprised of a lanostane skeleton which is 3beta - hydroxylated and has double bonds at the 9 ( 11 ) - and 24 - positions. It has a role as a metabolite',\n",
       " 'It is a 3beta - sterol, a tetracyclic triterpenoid and a 3beta - hydroxy - 4, 4 - dimethylsteroid. It derives from a hydride of a lanostane.',\n",
       " 'GSK1016790A is a tertiary carboxamide that is piperazine in which one of the amino groups has undergone condensation with the carboxy group of N - [ ( 2, 4 - dichlorophenyl ) sulfonyl ] - L - serine, while the other has undergone condensation with the carboxy group of N - ( 1 - benzothiophen - 2 - ylcarbonyl ) - L - leucine. It is a cell - permeable, potent and selective agonist of the TRPV4 ( transient receptor potential vanilloid 4 ) channel',\n",
       " 'It has a role as a TRPV4 agonist. It is a member of 1 - benzothiophenes, a N - acylpiperazine, a sulfonamide, a dichlorobenzene, a tertiary carboxamide and an aromatic primary alcohol.',\n",
       " '1 - ( 1Z - octadecenyl ) - 2 - ( 9Z - octadecenoyl ) - sn - glycero - 3 - phosphoethanolamine zwitterion is a 1 - ( alk - 1 - enyl ) - 2 - acyl - sn - glycero - 3 - phosphoethanolamine zwitterion in which the alk - 1 - enyl and acyl groups are specified as ( 1Z ) - octadecenyl and ( 9Z ) - octadecenoyl respectively ; major species at pH 7. 3',\n",
       " 'It is a 1 - ( Z ) - alk - 1 - enyl - 2 - acyl - sn - glycero - 3 - phosphoethanolamine zwitterion and a 1 - O - ( 1Z - octadecenyl ) - 2 - acyl - sn - glycero - 3 - phosphoethanolamine zwitterion. It derives from a 1 - O - octadecyl - 2 - oleoyl - sn - glycero - 3 - phosphoethanolamine zwitterion. It is a tautomer of a 1 - ( 1Z - octadecenyl ) - 2 - ( 9Z - octadecenoyl ) - sn - glycero - 3 - phosphoethanolamine.',\n",
       " 'Cyclohexanol is an alcohol that consists of cyclohexane bearing a single hydroxy substituent. The parent of the class of cyclohexanols',\n",
       " 'It has a role as a solvent. It is a secondary alcohol and a member of cyclohexanols.',\n",
       " 'N - octadecanoyl - 1 - O - beta - D - glucosyl - 15 - methylhexadecasphing - 4 - enine is an N - acyl - 1 - beta - D - glucosyl - 15 - methylhexadecasphing - 4 - enine in which the acyl group has 18 carbons and 0 double bonds',\n",
       " 'It derives from a 15 - methylhexadecasphing - 4 - enine.',\n",
       " '3 - oxo - 5, 6 - dehydrosuberyl - CoA ( 5 - ) is an acyl - CoA oxoanion arising from deprotonation of the phosphate, diphosphate and carboxy groups of 3 - oxo - 5, 6 - dehydrosuberyl - CoA ; major species at pH 7. 3',\n",
       " 'It is a conjugate base of a 3 - oxo - 5, 6 - dehydrosuberyl - CoA.',\n",
       " 'O - phospho - L - serine is the L - enantiomer of O - phosphoserine. It has a role as an EC 1. 4. 7. 1 [ glutamate synthase ( ferredoxin ) ] inhibitor, a human metabolite, a Saccharomyces cerevisiae metabolite, an Escherichia coli metabolite, an EC 2. 5. 1. 49 ( O - acetylhomoserine aminocarboxypropyltransferase ) inhibitor, an EC 4. 3. 1. 10 ( serine - sulfate ammonia - lyase ) inhibitor and a mouse metabolite',\n",
       " 'It is a conjugate acid of an O - phosphonato - L - serine ( 2 - ). It is an enantiomer of an O - phospho - D - serine.',\n",
       " 'Azosemide is a sulfonamide that is benzenesulfonamide which is substituted at positions 2, 4, and 5 by chlorine, ( 2 - thienylmethyl ) amino and 1H - tetrazol - 5 - yl groups, respectively. It is a diuretic that has been used in the management of oedema and hypertension',\n",
       " 'It has a role as a loop diuretic. It is a member of tetrazoles, a member of monochlorobenzenes, a sulfonamide and a member of thiophenes.',\n",
       " 'Valerate is a short - chain fatty acid anion that is the conjugate base of valeric acid ; present in ester form as component of many steroid - based pharmaceuticals. It has a role as a plant metabolite',\n",
       " 'It is a short - chain fatty acid anion and a straight - chain saturated fatty acid anion. It is a conjugate base of a valeric acid.',\n",
       " '3 - hydroxy - 3 - ( thiazol - 2 - yl ) indolin - 2 - one is an oxindole that is indolin - 2 - one substituted at position 3 by thiazol - 2 - yl and hydroxy groups. It has a role as a metabolite',\n",
       " 'It is a member of 1, 3 - thiazoles, a tertiary alcohol and a member of oxindoles. It derives from an indolin - 2 - one.',\n",
       " 'Delta - cadinene is a member of the cadinene family of sesquiterpenes in which the double bonds are located at the 4 - 4a and 7 - 8 positions, and in which the isopropyl group at position 1 is cis to the hydrogen at the adjacent bridgehead carbon ( position 8a )',\n",
       " 'It is a cadinene and a member of hexahydronaphthalenes.',\n",
       " 'Imatinib methanesulfonate is a methanesulfonate ( mesylate ) salt that is the monomesylate salt of imatinib. Used for treatment of chronic myelogenous leukemia and gastrointestinal stromal tumours',\n",
       " 'It has a role as an antineoplastic agent, an apoptosis inducer, a tyrosine kinase inhibitor and an anticoronaviral agent. It contains an imatinib.',\n",
       " '( R ) - nipecotamide ( 1 + ) is the cation resulting from the protonation of the piperidine nitrogen of ( R ) - nipecotamide',\n",
       " 'It is a conjugate acid of a ( R ) - nipecotamide.',\n",
       " '3 - ( 2, 3 - dihydroxyphenyl ) propanoate is the conjugate base of 3 - ( 2, 3 - dihydroxyphenyl ) propanoic acid. It derives from a propionate',\n",
       " 'It is a conjugate base of a 3 - ( 2, 3 - dihydroxyphenyl ) propanoic acid.',\n",
       " 'Dauca - 4, 7 - diene is a carbobicylic compound that is ( 8aS ) - 1, 2, 3, 3a, 4, 5, 8, 8a - octahydroazulene substituted by a propan - 2 - ylidene, methyl and methyl groups at positions 1, 3aR and 6, respectively',\n",
       " 'It has a role as an Aspergillus metabolite. It is a sesquiterpene, a carbocyclic compound and a polycyclic olefin.',\n",
       " 'Pseudouridine is a C - glycosyl pyrimidine that consists of uracil having a beta - D - ribofuranosyl residue attached at position 5',\n",
       " 'The C - glycosyl isomer of the nucleoside uridine. It has a role as a fundamental metabolite.']"
      ]
     },
     "execution_count": 10,
     "metadata": {},
     "output_type": "execute_result"
    }
   ],
   "source": [
    "tokenizer.batch_decode(batch.input_ids, skip_special_tokens=True)"
   ]
  }
 ],
 "metadata": {
  "kernelspec": {
   "display_name": "Python 3",
   "language": "python",
   "name": "python3"
  },
  "language_info": {
   "codemirror_mode": {
    "name": "ipython",
    "version": 3
   },
   "file_extension": ".py",
   "mimetype": "text/x-python",
   "name": "python",
   "nbconvert_exporter": "python",
   "pygments_lexer": "ipython3",
   "version": "3.9.7"
  }
 },
 "nbformat": 4,
 "nbformat_minor": 2
}

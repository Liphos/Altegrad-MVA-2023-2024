{
 "cells": [
  {
   "cell_type": "code",
   "execution_count": 1,
   "metadata": {},
   "outputs": [],
   "source": [
    "import pandas as pd\n",
    "import re"
   ]
  },
  {
   "cell_type": "code",
   "execution_count": 26,
   "metadata": {},
   "outputs": [],
   "source": [
    "train_ds = pd.read_csv(\"../data/train.tsv\", sep=\"\\t\", header=None)\n",
    "val_ds = pd.read_csv(\"../data/val.tsv\", sep=\"\\t\", header=None)\n",
    "\n",
    "train_texts = train_ds.iloc[:, 1].tolist()\n",
    "val_texts = val_ds.iloc[:, 1].tolist()"
   ]
  },
  {
   "cell_type": "code",
   "execution_count": 27,
   "metadata": {},
   "outputs": [],
   "source": [
    "train_ids = train_ds.iloc[:, 0].tolist()\n",
    "val_ids = val_ds.iloc[:, 0].tolist()"
   ]
  },
  {
   "cell_type": "code",
   "execution_count": 28,
   "metadata": {},
   "outputs": [
    {
     "data": {
      "text/plain": [
       "(26408, 3301)"
      ]
     },
     "execution_count": 28,
     "metadata": {},
     "output_type": "execute_result"
    }
   ],
   "source": [
    "len(train_texts), len(val_texts)"
   ]
  },
  {
   "cell_type": "code",
   "execution_count": 29,
   "metadata": {},
   "outputs": [],
   "source": [
    "# Split for '. ' followed by a capital letter\n",
    "train_split_texts = []\n",
    "for i in range(len(train_texts)):\n",
    "    train_split_texts.append(re.split(r'\\. (?=[A-Z])', train_texts[i]))\n",
    "\n",
    "val_split_texts = []\n",
    "for i in range(len(val_texts)):\n",
    "    val_split_texts.append(re.split(r'\\. (?=[A-Z])', val_texts[i]))"
   ]
  },
  {
   "cell_type": "code",
   "execution_count": 30,
   "metadata": {},
   "outputs": [],
   "source": [
    "def balance_sentences(sentences):\n",
    "    total_words = sum(len(sentence.split()) for sentence in sentences)\n",
    "    midpoint = total_words // 2\n",
    "\n",
    "    accumulated_words = 0\n",
    "    first_part = []\n",
    "\n",
    "    for sentence in sentences:\n",
    "        accumulated_words += len(sentence.split())\n",
    "        first_part.append(sentence)\n",
    "        if accumulated_words >= midpoint:\n",
    "            break\n",
    "\n",
    "    second_part = sentences[len(first_part):]\n",
    "\n",
    "    return '. '.join(first_part), '. '.join(second_part)"
   ]
  },
  {
   "cell_type": "code",
   "execution_count": 31,
   "metadata": {},
   "outputs": [],
   "source": [
    "train_processed_texts = []\n",
    "for i in range(len(train_split_texts)):\n",
    "    train_processed_texts.append(balance_sentences(train_split_texts[i]))\n",
    "\n",
    "val_processed_texts = []\n",
    "for i in range(len(val_split_texts)):\n",
    "    val_processed_texts.append(balance_sentences(val_split_texts[i]))"
   ]
  },
  {
   "cell_type": "code",
   "execution_count": 32,
   "metadata": {},
   "outputs": [
    {
     "data": {
      "text/plain": [
       "(26408, 3301)"
      ]
     },
     "execution_count": 32,
     "metadata": {},
     "output_type": "execute_result"
    }
   ],
   "source": [
    "len(train_processed_texts), len(val_processed_texts)"
   ]
  },
  {
   "cell_type": "code",
   "execution_count": 36,
   "metadata": {},
   "outputs": [],
   "source": [
    "# Save to file\n",
    "with open(\"../data/train_split.tsv\", \"w\", encoding='utf-8') as f:\n",
    "    # f.write(\"id\\tsentence1\\tsentence2\\n\")\n",
    "    for i in range(len(train_processed_texts)):\n",
    "        f.write(str(train_ids[i]) + \"\\t\" + train_processed_texts[i][0] + \"\\t\" + train_processed_texts[i][1] + \"\\n\")\n",
    "\n",
    "with open(\"../data/val_split.tsv\", \"w\", encoding='utf-8') as f:\n",
    "    # f.write(\"id\\tsentence1\\tsentence2\\n\")\n",
    "    for i in range(len(val_processed_texts)):\n",
    "        f.write(str(val_ids[i]) + \"\\t\" + val_processed_texts[i][0] + \"\\t\" + val_processed_texts[i][1] + \"\\n\")"
   ]
  },
  {
   "cell_type": "code",
   "execution_count": 37,
   "metadata": {},
   "outputs": [
    {
     "data": {
      "text/html": [
       "<div>\n",
       "<style scoped>\n",
       "    .dataframe tbody tr th:only-of-type {\n",
       "        vertical-align: middle;\n",
       "    }\n",
       "\n",
       "    .dataframe tbody tr th {\n",
       "        vertical-align: top;\n",
       "    }\n",
       "\n",
       "    .dataframe thead th {\n",
       "        text-align: right;\n",
       "    }\n",
       "</style>\n",
       "<table border=\"1\" class=\"dataframe\">\n",
       "  <thead>\n",
       "    <tr style=\"text-align: right;\">\n",
       "      <th></th>\n",
       "      <th>25244316</th>\n",
       "      <th>UDP-alpha-D-galactofuranose(2-) is a UDP-D-galactofuranose(2-) in which the anomeric centre of the galactofuranose moiety has alpha-configuration</th>\n",
       "      <th>It is a conjugate base of an UDP-alpha-D-galactofuranose.</th>\n",
       "    </tr>\n",
       "  </thead>\n",
       "  <tbody>\n",
       "    <tr>\n",
       "      <th>0</th>\n",
       "      <td>46931111</td>\n",
       "      <td>2-acetamido-2-deoxy-3-O-(4-deoxy-alpha-L-threo...</td>\n",
       "      <td>It is an organosulfate oxoanion, a carbohydrat...</td>\n",
       "    </tr>\n",
       "    <tr>\n",
       "      <th>1</th>\n",
       "      <td>743</td>\n",
       "      <td>Glutaric acid is an alpha,omega-dicarboxylic a...</td>\n",
       "      <td>It is a conjugate acid of a glutarate(1-) and ...</td>\n",
       "    </tr>\n",
       "    <tr>\n",
       "      <th>2</th>\n",
       "      <td>6151363</td>\n",
       "      <td>All-trans-4-oxoretinal is a retinoid that is a...</td>\n",
       "      <td>It is an enal, a retinoid and an enone. It der...</td>\n",
       "    </tr>\n",
       "    <tr>\n",
       "      <th>3</th>\n",
       "      <td>7344</td>\n",
       "      <td>Ethyl 2-hydroxypropanoate is the ethyl ester o...</td>\n",
       "      <td>It is a secondary alcohol, a lactate ester and...</td>\n",
       "    </tr>\n",
       "    <tr>\n",
       "      <th>4</th>\n",
       "      <td>170780</td>\n",
       "      <td>Alstonine(1+) is an organic cation resulting f...</td>\n",
       "      <td>The major microspecies at pH 7.3. It is a conj...</td>\n",
       "    </tr>\n",
       "    <tr>\n",
       "      <th>...</th>\n",
       "      <td>...</td>\n",
       "      <td>...</td>\n",
       "      <td>...</td>\n",
       "    </tr>\n",
       "    <tr>\n",
       "      <th>26402</th>\n",
       "      <td>3014955</td>\n",
       "      <td>3-chlorobenzoate is a chlorobenzoate that is t...</td>\n",
       "      <td>It is a conjugate base of a 3-chlorobenzoic acid.</td>\n",
       "    </tr>\n",
       "    <tr>\n",
       "      <th>26403</th>\n",
       "      <td>10315720</td>\n",
       "      <td>NK372135B is a dinitrile that is butanedinitri...</td>\n",
       "      <td>It has a role as a metabolite and an antifunga...</td>\n",
       "    </tr>\n",
       "    <tr>\n",
       "      <th>26404</th>\n",
       "      <td>52921823</td>\n",
       "      <td>(14Z,17Z,20Z,23Z,26Z)-dotriacontapentaenoic ac...</td>\n",
       "      <td>It is a dotriacontapentaenoic acid and an omeg...</td>\n",
       "    </tr>\n",
       "    <tr>\n",
       "      <th>26405</th>\n",
       "      <td>53355130</td>\n",
       "      <td>7-epi-zeaenol is a macrolide that is a C-7 epi...</td>\n",
       "      <td>It is an aromatic ether, a macrolide, a member...</td>\n",
       "    </tr>\n",
       "    <tr>\n",
       "      <th>26406</th>\n",
       "      <td>5282451</td>\n",
       "      <td>Pitavastatin calcium is the calcium salt of pi...</td>\n",
       "      <td>It has a role as an antioxidant. It is a calci...</td>\n",
       "    </tr>\n",
       "  </tbody>\n",
       "</table>\n",
       "<p>26407 rows × 3 columns</p>\n",
       "</div>"
      ],
      "text/plain": [
       "       25244316  \\\n",
       "0      46931111   \n",
       "1           743   \n",
       "2       6151363   \n",
       "3          7344   \n",
       "4        170780   \n",
       "...         ...   \n",
       "26402   3014955   \n",
       "26403  10315720   \n",
       "26404  52921823   \n",
       "26405  53355130   \n",
       "26406   5282451   \n",
       "\n",
       "      UDP-alpha-D-galactofuranose(2-) is a UDP-D-galactofuranose(2-) in which the anomeric centre of the galactofuranose moiety has alpha-configuration  \\\n",
       "0      2-acetamido-2-deoxy-3-O-(4-deoxy-alpha-L-threo...                                                                                                  \n",
       "1      Glutaric acid is an alpha,omega-dicarboxylic a...                                                                                                  \n",
       "2      All-trans-4-oxoretinal is a retinoid that is a...                                                                                                  \n",
       "3      Ethyl 2-hydroxypropanoate is the ethyl ester o...                                                                                                  \n",
       "4      Alstonine(1+) is an organic cation resulting f...                                                                                                  \n",
       "...                                                  ...                                                                                                  \n",
       "26402  3-chlorobenzoate is a chlorobenzoate that is t...                                                                                                  \n",
       "26403  NK372135B is a dinitrile that is butanedinitri...                                                                                                  \n",
       "26404  (14Z,17Z,20Z,23Z,26Z)-dotriacontapentaenoic ac...                                                                                                  \n",
       "26405  7-epi-zeaenol is a macrolide that is a C-7 epi...                                                                                                  \n",
       "26406  Pitavastatin calcium is the calcium salt of pi...                                                                                                  \n",
       "\n",
       "      It is a conjugate base of an UDP-alpha-D-galactofuranose.  \n",
       "0      It is an organosulfate oxoanion, a carbohydrat...         \n",
       "1      It is a conjugate acid of a glutarate(1-) and ...         \n",
       "2      It is an enal, a retinoid and an enone. It der...         \n",
       "3      It is a secondary alcohol, a lactate ester and...         \n",
       "4      The major microspecies at pH 7.3. It is a conj...         \n",
       "...                                                  ...         \n",
       "26402  It is a conjugate base of a 3-chlorobenzoic acid.         \n",
       "26403  It has a role as a metabolite and an antifunga...         \n",
       "26404  It is a dotriacontapentaenoic acid and an omeg...         \n",
       "26405  It is an aromatic ether, a macrolide, a member...         \n",
       "26406  It has a role as an antioxidant. It is a calci...         \n",
       "\n",
       "[26407 rows x 3 columns]"
      ]
     },
     "execution_count": 37,
     "metadata": {},
     "output_type": "execute_result"
    }
   ],
   "source": [
    "train_split = pd.read_csv(\"../data/train_split.tsv\", sep=\"\\t\")\n",
    "train_split"
   ]
  },
  {
   "cell_type": "code",
   "execution_count": 35,
   "metadata": {},
   "outputs": [
    {
     "data": {
      "text/plain": [
       "0        UDP-alpha-D-galactofuranose(2-) is a UDP-D-gal...\n",
       "1        2-acetamido-2-deoxy-3-O-(4-deoxy-alpha-L-threo...\n",
       "2        Glutaric acid is an alpha,omega-dicarboxylic a...\n",
       "3        All-trans-4-oxoretinal is a retinoid that is a...\n",
       "4        Ethyl 2-hydroxypropanoate is the ethyl ester o...\n",
       "                               ...                        \n",
       "26403    3-chlorobenzoate is a chlorobenzoate that is t...\n",
       "26404    NK372135B is a dinitrile that is butanedinitri...\n",
       "26405    (14Z,17Z,20Z,23Z,26Z)-dotriacontapentaenoic ac...\n",
       "26406    7-epi-zeaenol is a macrolide that is a C-7 epi...\n",
       "26407    Pitavastatin calcium is the calcium salt of pi...\n",
       "Name: sentence1, Length: 26408, dtype: object"
      ]
     },
     "execution_count": 35,
     "metadata": {},
     "output_type": "execute_result"
    }
   ],
   "source": [
    "train_split['sentence1']"
   ]
  },
  {
   "cell_type": "code",
   "execution_count": null,
   "metadata": {},
   "outputs": [],
   "source": [
    "train_split['sentence1'][]"
   ]
  }
 ],
 "metadata": {
  "kernelspec": {
   "display_name": "Python 3",
   "language": "python",
   "name": "python3"
  },
  "language_info": {
   "codemirror_mode": {
    "name": "ipython",
    "version": 3
   },
   "file_extension": ".py",
   "mimetype": "text/x-python",
   "name": "python",
   "nbconvert_exporter": "python",
   "pygments_lexer": "ipython3",
   "version": "3.9.7"
  }
 },
 "nbformat": 4,
 "nbformat_minor": 2
}
